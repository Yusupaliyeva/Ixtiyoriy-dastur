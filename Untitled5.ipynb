{
  "nbformat": 4,
  "nbformat_minor": 0,
  "metadata": {
    "colab": {
      "provenance": []
    },
    "kernelspec": {
      "name": "python3",
      "display_name": "Python 3"
    },
    "language_info": {
      "name": "python"
    }
  },
  "cells": [
    {
      "cell_type": "code",
      "source": [
        "from PIL import Image, ImageDraw\n",
        "import matplotlib.pyplot as plt\n",
        "\n",
        "def crop_to_shape(image_path, shape='oval'):\n",
        "\n",
        "\n",
        "    img = Image.open(image_path).convert(\"RGBA\")\n",
        "    width, height = img.size\n",
        "\n",
        "    mask = Image.new(\"L\", (width, height), 0)\n",
        "    draw = ImageDraw.Draw(mask)\n",
        "\n",
        "\n",
        "    if shape == 'oval':\n",
        "        draw.ellipse((0, 0, width, height), fill=255)\n",
        "    elif shape == 'to‘rtburchak':\n",
        "        draw.rectangle((0, 0, width, height), fill=255)\n",
        "    elif shape == 'doira':\n",
        "        size = min(width, height)\n",
        "        draw.ellipse((0, 0, size, size), fill=255)\n",
        "    elif shape == 'uchburchak':\n",
        "        draw.polygon([(width // 2, 0), (0, height), (width, height)], fill=255)\n",
        "    elif shape == 'romb':\n",
        "        draw.polygon([(width // 2,0), (width, height // 2),\n",
        "                      (width // 2, height), (0, height // 2)], fill=255)\n",
        "    elif shape == 'yulduzcha':\n",
        "        draw.polygon([\n",
        "            (width // 2, 0), (width * 3 // 4, height // 3),\n",
        "            (width, height // 3), (width * 4 // 5, height * 2 // 3),\n",
        "            (width * 5 // 6, height), (width // 2, height * 3 // 4),\n",
        "            (width // 6, height), (width // 5, height * 2 // 3),\n",
        "            (0, height // 3), (width // 4, height // 3)\n",
        "        ], fill=255)\n",
        "    elif shape == 'oy':\n",
        "        draw.ellipse((0, 0, width, height), fill=255)\n",
        "        draw.ellipse((width // 4, 0, width + width // 4, height), fill=0)\n",
        "    else:\n",
        "        raise ValueError(\"Shakl noto‘g‘ri. Quyidagilardan birini tanlang: oval, to‘rtburchak, doira, uchburchak, romb, yulduzcha, oy.\")\n",
        "\n",
        "\n",
        "    result = Image.new(\"RGBA\", (width, height))\n",
        "    result.paste(img, (0, 0), mask=mask)\n",
        "    return result\n",
        "\n",
        "image_path = input(\"Rasmning yo‘lini kiriting (yoki yuklang): \")\n",
        "shape = input(\"Qaysi shaklga o‘zgartirishni xohlaysiz? (oval, to‘rtburchak, doira, uchburchak, romb, yulduzcha, oy): \")\n",
        "\n",
        "\n",
        "try:\n",
        "    result_img = crop_to_shape(image_path, shape)\n",
        "    plt.imshow(result_img)\n",
        "    plt.axis('off')\n",
        "    plt.show()\n",
        "except Exception as e:\n",
        "    print(f\"Xatolik: {e}\")\n"
      ],
      "metadata": {
        "id": "hExvfNN5y0jm"
      },
      "execution_count": null,
      "outputs": []
    }
  ]
}